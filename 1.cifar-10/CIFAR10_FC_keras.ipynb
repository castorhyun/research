{
  "nbformat": 4,
  "nbformat_minor": 0,
  "metadata": {
    "colab": {
      "name": "CIFAR10_FC_keras.ipynb",
      "provenance": [],
      "authorship_tag": "ABX9TyOfUO8D16YNcZT7PutoNBP+",
      "include_colab_link": true
    },
    "kernelspec": {
      "name": "python3",
      "display_name": "Python 3"
    },
    "accelerator": "GPU"
  },
  "cells": [
    {
      "cell_type": "markdown",
      "metadata": {
        "id": "view-in-github",
        "colab_type": "text"
      },
      "source": [
        "<a href=\"https://colab.research.google.com/github/castorhyun/research/blob/master/CIFAR10_FC_keras.ipynb\" target=\"_parent\"><img src=\"https://colab.research.google.com/assets/colab-badge.svg\" alt=\"Open In Colab\"/></a>"
      ]
    },
    {
      "cell_type": "markdown",
      "metadata": {
        "id": "0brbR6gZj7wi",
        "colab_type": "text"
      },
      "source": [
        "CIFAR 10 - Fully connected Layer Model"
      ]
    },
    {
      "cell_type": "code",
      "metadata": {
        "id": "0i6C9erJktqF",
        "colab_type": "code",
        "colab": {}
      },
      "source": [
        "import numpy as np\n",
        "import os\n",
        "import tensorflow as tf\n"
      ],
      "execution_count": 1,
      "outputs": []
    },
    {
      "cell_type": "code",
      "metadata": {
        "id": "IlSBoeP7ktsK",
        "colab_type": "code",
        "colab": {}
      },
      "source": [
        "from keras.datasets import cifar10"
      ],
      "execution_count": 2,
      "outputs": []
    },
    {
      "cell_type": "code",
      "metadata": {
        "id": "5KZDGNPcktwj",
        "colab_type": "code",
        "colab": {
          "base_uri": "https://localhost:8080/",
          "height": 50
        },
        "outputId": "2633146d-13c3-4f96-f35d-15f44c690b2c"
      },
      "source": [
        "(X_train, y_train), (X_test, y_test) = cifar10.load_data()"
      ],
      "execution_count": 3,
      "outputs": [
        {
          "output_type": "stream",
          "text": [
            "Downloading data from https://www.cs.toronto.edu/~kriz/cifar-10-python.tar.gz\n",
            "170500096/170498071 [==============================] - 3s 0us/step\n"
          ],
          "name": "stdout"
        }
      ]
    },
    {
      "cell_type": "code",
      "metadata": {
        "id": "gVl1fhEGlCej",
        "colab_type": "code",
        "colab": {
          "base_uri": "https://localhost:8080/",
          "height": 166
        },
        "outputId": "3587d938-f64c-4f60-e393-54a5b831d971"
      },
      "source": [
        "print (\"Training data:\")\n",
        "print (\"Number of examples: \", X_train.shape[0])\n",
        "print (\"Number of channels:\",X_train.shape[3]) \n",
        "print (\"Image size:\", X_train.shape[1], X_train.shape[2])\n",
        "print\n",
        "print (\"Test data:\")\n",
        "print (\"Number of examples:\", X_test.shape[0])\n",
        "print (\"Number of channels:\", X_test.shape[3])\n",
        "print (\"Image size:\", X_test.shape[1], X_test.shape[2]) \n",
        "\n",
        "print(X_train.shape, X_train.dtype)"
      ],
      "execution_count": 4,
      "outputs": [
        {
          "output_type": "stream",
          "text": [
            "Training data:\n",
            "Number of examples:  50000\n",
            "Number of channels: 3\n",
            "Image size: 32 32\n",
            "Test data:\n",
            "Number of examples: 10000\n",
            "Number of channels: 3\n",
            "Image size: 32 32\n",
            "(50000, 32, 32, 3) uint8\n"
          ],
          "name": "stdout"
        }
      ]
    },
    {
      "cell_type": "markdown",
      "metadata": {
        "id": "T0Bhqs_YlgtA",
        "colab_type": "text"
      },
      "source": [
        "\n",
        "Visualization Dataset\n",
        "\n"
      ]
    },
    {
      "cell_type": "code",
      "metadata": {
        "id": "dlEVzVeHlCgq",
        "colab_type": "code",
        "colab": {}
      },
      "source": [
        "def pprint(arr, pnt_cnt):\n",
        "    if pnt_cnt > 0:\n",
        "      print(\"type:{}\".format(type(arr)))\n",
        "    if pnt_cnt > 1:\n",
        "      print(\"shape: {}, dimension: {}, dtype:{}\".format(arr.shape, arr.ndim, arr.dtype))\n",
        "    if pnt_cnt > 2:\n",
        "      print(\"Array's Data:\\n\", arr)"
      ],
      "execution_count": 5,
      "outputs": []
    },
    {
      "cell_type": "code",
      "metadata": {
        "id": "MyRjiKYolCik",
        "colab_type": "code",
        "colab": {
          "base_uri": "https://localhost:8080/",
          "height": 50
        },
        "outputId": "2f6e9b50-959b-48b7-e46c-2616a6a7393d"
      },
      "source": [
        "pprint(X_train[0],2)"
      ],
      "execution_count": 6,
      "outputs": [
        {
          "output_type": "stream",
          "text": [
            "type:<class 'numpy.ndarray'>\n",
            "shape: (32, 32, 3), dimension: 3, dtype:uint8\n"
          ],
          "name": "stdout"
        }
      ]
    },
    {
      "cell_type": "code",
      "metadata": {
        "id": "cFNThc1PlCkr",
        "colab_type": "code",
        "colab": {
          "base_uri": "https://localhost:8080/",
          "height": 124
        },
        "outputId": "f1ee6f61-cf18-4518-cd8e-5f22f7c87337"
      },
      "source": [
        "import matplotlib.pyplot as plt\n",
        "\n",
        "\n",
        "plt.subplot(141)\n",
        "plt.imshow(X_train[0], interpolation=\"bicubic\")\n",
        "plt.grid(False)\n",
        "plt.subplot(142)\n",
        "plt.imshow(X_train[4], interpolation=\"bicubic\")\n",
        "plt.grid(False)\n",
        "plt.subplot(143)\n",
        "plt.imshow(X_train[8], interpolation=\"bicubic\")\n",
        "plt.grid(False)\n",
        "plt.subplot(144)\n",
        "plt.imshow(X_train[12], interpolation=\"bicubic\")\n",
        "plt.grid(False)\n",
        "plt.show()"
      ],
      "execution_count": 7,
      "outputs": [
        {
          "output_type": "display_data",
          "data": {
            "image/png": "[encoded data removed]",
            "text/plain": [
              "<Figure size 432x288 with 4 Axes>"
            ]
          },
          "metadata": {
            "tags": [],
            "needs_background": "light"
          }
        }
      ]
    },
    {
      "cell_type": "code",
      "metadata": {
        "id": "3kIc5PWZ9Hv3",
        "colab_type": "code",
        "colab": {
          "base_uri": "https://localhost:8080/",
          "height": 33
        },
        "outputId": "55c3066e-c3bd-4b73-c2c4-884ce4ddba16"
      },
      "source": [
        "print(y_train[0], y_train[4], y_train[8], y_train[12])"
      ],
      "execution_count": 8,
      "outputs": [
        {
          "output_type": "stream",
          "text": [
            "[6] [1] [8] [7]\n"
          ],
          "name": "stdout"
        }
      ]
    },
    {
      "cell_type": "code",
      "metadata": {
        "id": "Dr-rGR6KlCqp",
        "colab_type": "code",
        "colab": {
          "base_uri": "https://localhost:8080/",
          "height": 50
        },
        "outputId": "353e1377-0830-4cb1-e5af-16a5c63adaf9"
      },
      "source": [
        "pprint(y_train,2)"
      ],
      "execution_count": 9,
      "outputs": [
        {
          "output_type": "stream",
          "text": [
            "type:<class 'numpy.ndarray'>\n",
            "shape: (50000, 1), dimension: 2, dtype:uint8\n"
          ],
          "name": "stdout"
        }
      ]
    },
    {
      "cell_type": "markdown",
      "metadata": {
        "id": "_yeXDT9Ez650",
        "colab_type": "text"
      },
      "source": [
        "Train / Validation Split"
      ]
    },
    {
      "cell_type": "code",
      "metadata": {
        "id": "mO_8ggYWz50-",
        "colab_type": "code",
        "colab": {}
      },
      "source": [
        "# model.fit 단계에서 validation_split 옵션 사용예정 \n",
        "\n",
        "# 미사용 로직\n",
        "#(X_train, X_valid) = X_train[5000:], X_train[:5000]\n",
        "#(y_train, y_valid) = y_train[5000:], y_train[:5000 ]"
      ],
      "execution_count": 7,
      "outputs": []
    },
    {
      "cell_type": "code",
      "metadata": {
        "id": "_hzg_7Oyz5_Z",
        "colab_type": "code",
        "colab": {
          "base_uri": "https://localhost:8080/",
          "height": 50
        },
        "outputId": "528e79a0-066b-4c47-c5a4-c9d8bbd60ae2"
      },
      "source": [
        "print (\"mean before normalization:\", np.mean(X_train)) \n",
        "print (\"std before normalization:\", np.std(X_train))"
      ],
      "execution_count": 10,
      "outputs": [
        {
          "output_type": "stream",
          "text": [
            "mean before normalization: 120.70756512369792\n",
            "std before normalization: 64.1500758911213\n"
          ],
          "name": "stdout"
        }
      ]
    },
    {
      "cell_type": "markdown",
      "metadata": {
        "id": "-F_Us5KHz87b",
        "colab_type": "text"
      },
      "source": [
        "X_train Data reshape (32,32,3) >> (3072,1)"
      ]
    },
    {
      "cell_type": "code",
      "metadata": {
        "id": "ktnApjjtyIfc",
        "colab_type": "code",
        "colab": {}
      },
      "source": [
        "# 입력값을 1차원 변환\n",
        "# layer 구성시 flatten 사용해서 처리할 수도 있음.\n",
        "X_train_1D = X_train.reshape(-1,3072)\n"
      ],
      "execution_count": 11,
      "outputs": []
    },
    {
      "cell_type": "code",
      "metadata": {
        "id": "t3jU4F5LzxcU",
        "colab_type": "code",
        "colab": {
          "base_uri": "https://localhost:8080/",
          "height": 183
        },
        "outputId": "6678ea7d-8834-486e-c210-fb95231d3dae"
      },
      "source": [
        "pprint(X_train_1D,3)"
      ],
      "execution_count": 12,
      "outputs": [
        {
          "output_type": "stream",
          "text": [
            "type:<class 'numpy.ndarray'>\n",
            "shape: (50000, 3072), dimension: 2, dtype:uint8\n",
            "Array's Data:\n",
            " [[ 59  62  63 ... 123  92  72]\n",
            " [154 177 187 ... 143 133 144]\n",
            " [255 255 255 ...  80  86  84]\n",
            " ...\n",
            " [ 35 178 235 ...  12  31  50]\n",
            " [189 211 240 ... 195 190 171]\n",
            " [229 229 239 ... 163 163 161]]\n"
          ],
          "name": "stdout"
        }
      ]
    },
    {
      "cell_type": "markdown",
      "metadata": {
        "id": "bNTvVpGF7xFP",
        "colab_type": "text"
      },
      "source": [
        "label 항목 one_hot_encoding 처리\n",
        "10개 클래스로 구성"
      ]
    },
    {
      "cell_type": "code",
      "metadata": {
        "id": "8igQIjUlp7xo",
        "colab_type": "code",
        "colab": {}
      },
      "source": [
        "import keras.utils\n",
        "\n",
        "one_hot_labels = keras.utils.to_categorical(y_train, num_classes=10)"
      ],
      "execution_count": 13,
      "outputs": []
    },
    {
      "cell_type": "code",
      "metadata": {
        "id": "-qwPy7pzx1bh",
        "colab_type": "code",
        "colab": {
          "base_uri": "https://localhost:8080/",
          "height": 183
        },
        "outputId": "95159f8a-f2f2-4e60-f035-4bc51972822d"
      },
      "source": [
        "pprint(one_hot_labels,3)"
      ],
      "execution_count": 14,
      "outputs": [
        {
          "output_type": "stream",
          "text": [
            "type:<class 'numpy.ndarray'>\n",
            "shape: (50000, 10), dimension: 2, dtype:float32\n",
            "Array's Data:\n",
            " [[0. 0. 0. ... 0. 0. 0.]\n",
            " [0. 0. 0. ... 0. 0. 1.]\n",
            " [0. 0. 0. ... 0. 0. 1.]\n",
            " ...\n",
            " [0. 0. 0. ... 0. 0. 1.]\n",
            " [0. 1. 0. ... 0. 0. 0.]\n",
            " [0. 1. 0. ... 0. 0. 0.]]\n"
          ],
          "name": "stdout"
        }
      ]
    },
    {
      "cell_type": "code",
      "metadata": {
        "id": "V2x-qnqbxz6f",
        "colab_type": "code",
        "colab": {}
      },
      "source": [
        ""
      ],
      "execution_count": null,
      "outputs": []
    },
    {
      "cell_type": "markdown",
      "metadata": {
        "id": "HM1bBPNVp7dS",
        "colab_type": "text"
      },
      "source": [
        "Fully connected layer Model 만들기\n",
        "\n",
        "https://keras.io/ko/getting-started/sequential-model-guide/"
      ]
    },
    {
      "cell_type": "code",
      "metadata": {
        "id": "NzB0jmfwqK6b",
        "colab_type": "code",
        "colab": {}
      },
      "source": [
        "from keras.models import Sequential\n",
        "from keras.layers import Dense , Flatten\n",
        "from keras.layers.normalization import BatchNormalization\n",
        "import keras.utils\n",
        "from keras import layers , activations\n",
        "from keras.optimizers import SGD\n",
        "\n",
        "\n"
      ],
      "execution_count": 15,
      "outputs": []
    },
    {
      "cell_type": "markdown",
      "metadata": {
        "id": "K8QmG1z93my7",
        "colab_type": "text"
      },
      "source": [
        "MODEL #1 - 입력데이터 batch normalizion 미적용\n",
        "\n",
        "입력데이터 그대로 full connected layer로만 연결"
      ]
    },
    {
      "cell_type": "code",
      "metadata": {
        "id": "v4ShDn1kp7vt",
        "colab_type": "code",
        "colab": {
          "base_uri": "https://localhost:8080/",
          "height": 316
        },
        "outputId": "2e67d73b-2ccf-44bc-b493-d54b9e2407e1"
      },
      "source": [
        "model_fc1 = Sequential()\n",
        "\n",
        "model_fc1.add(Dense(3072, activation='relu', input_dim=3072))\n",
        "\n",
        "model_fc1.add(Dense(1024,activation='relu'))\n",
        "model_fc1.add(Dense(512,activation='relu'))\n",
        "model_fc1.add(Dense(256,activation='relu'))\n",
        "model_fc1.add(Dense(10,activation='softmax'))\n",
        "\n",
        "# gradient decent 추가\n",
        "sgd = SGD(lr=1e-1, decay=1 )\n",
        "\n",
        "model_fc1.compile(optimizer='sgd',\n",
        "                 loss='categorical_crossentropy',\n",
        "                 metrics=['accuracy'])\n",
        "\n",
        "model_fc1.summary()"
      ],
      "execution_count": 16,
      "outputs": [
        {
          "output_type": "stream",
          "text": [
            "Model: \"sequential\"\n",
            "_________________________________________________________________\n",
            "Layer (type)                 Output Shape              Param #   \n",
            "=================================================================\n",
            "dense (Dense)                (None, 3072)              9440256   \n",
            "_________________________________________________________________\n",
            "dense_1 (Dense)              (None, 1024)              3146752   \n",
            "_________________________________________________________________\n",
            "dense_2 (Dense)              (None, 512)               524800    \n",
            "_________________________________________________________________\n",
            "dense_3 (Dense)              (None, 256)               131328    \n",
            "_________________________________________________________________\n",
            "dense_4 (Dense)              (None, 10)                2570      \n",
            "=================================================================\n",
            "Total params: 13,245,706\n",
            "Trainable params: 13,245,706\n",
            "Non-trainable params: 0\n",
            "_________________________________________________________________\n"
          ],
          "name": "stdout"
        }
      ]
    },
    {
      "cell_type": "code",
      "metadata": {
        "id": "ii1wNDBA5fpd",
        "colab_type": "code",
        "colab": {
          "base_uri": "https://localhost:8080/",
          "height": 403
        },
        "outputId": "cd7a0c2c-5427-440f-a055-cb628d07c576"
      },
      "source": [
        "model_fc1.fit(X_train_1D, one_hot_labels, epochs=10, batch_size=1000, validation_split=0.2)"
      ],
      "execution_count": 17,
      "outputs": [
        {
          "output_type": "stream",
          "text": [
            "Epoch 1/10\n",
            " 1/40 [..............................] - ETA: 0s - loss: 100.7817 - accuracy: 0.0930WARNING:tensorflow:Callbacks method `on_train_batch_end` is slow compared to the batch time (batch time: 0.0054s vs `on_train_batch_end` time: 0.0082s). Check your callbacks.\n",
            "40/40 [==============================] - 1s 17ms/step - loss: nan - accuracy: 0.0989 - val_loss: nan - val_accuracy: 0.1014\n",
            "Epoch 2/10\n",
            "40/40 [==============================] - 1s 14ms/step - loss: nan - accuracy: 0.0997 - val_loss: nan - val_accuracy: 0.1014\n",
            "Epoch 3/10\n",
            "40/40 [==============================] - 1s 14ms/step - loss: nan - accuracy: 0.0997 - val_loss: nan - val_accuracy: 0.1014\n",
            "Epoch 4/10\n",
            "40/40 [==============================] - 1s 14ms/step - loss: nan - accuracy: 0.0997 - val_loss: nan - val_accuracy: 0.1014\n",
            "Epoch 5/10\n",
            "40/40 [==============================] - 1s 14ms/step - loss: nan - accuracy: 0.0997 - val_loss: nan - val_accuracy: 0.1014\n",
            "Epoch 6/10\n",
            "40/40 [==============================] - 1s 14ms/step - loss: nan - accuracy: 0.0997 - val_loss: nan - val_accuracy: 0.1014\n",
            "Epoch 7/10\n",
            "40/40 [==============================] - 1s 14ms/step - loss: nan - accuracy: 0.0997 - val_loss: nan - val_accuracy: 0.1014\n",
            "Epoch 8/10\n",
            "40/40 [==============================] - 1s 14ms/step - loss: nan - accuracy: 0.0997 - val_loss: nan - val_accuracy: 0.1014\n",
            "Epoch 9/10\n",
            "40/40 [==============================] - 1s 14ms/step - loss: nan - accuracy: 0.0997 - val_loss: nan - val_accuracy: 0.1014\n",
            "Epoch 10/10\n",
            "40/40 [==============================] - 1s 14ms/step - loss: nan - accuracy: 0.0997 - val_loss: nan - val_accuracy: 0.1014\n"
          ],
          "name": "stdout"
        },
        {
          "output_type": "execute_result",
          "data": {
            "text/plain": [
              "<tensorflow.python.keras.callbacks.History at 0x7fd25354d8d0>"
            ]
          },
          "metadata": {
            "tags": []
          },
          "execution_count": 17
        }
      ]
    },
    {
      "cell_type": "code",
      "metadata": {
        "id": "WuZwpOfL5j2l",
        "colab_type": "code",
        "colab": {
          "base_uri": "https://localhost:8080/",
          "height": 50
        },
        "outputId": "4dd32fbd-9019-42f5-ffbf-ddbb36af5ab5"
      },
      "source": [
        "X_test_1D = X_test.reshape(-1,3072)\n",
        "one_hot_y_test = keras.utils.to_categorical(y_test, num_classes=10)\n",
        "\n",
        "model_fc1.evaluate(X_test_1D, one_hot_y_test, batch_size=1000)"
      ],
      "execution_count": 18,
      "outputs": [
        {
          "output_type": "stream",
          "text": [
            "10/10 [==============================] - 0s 7ms/step - loss: nan - accuracy: 0.1000\n"
          ],
          "name": "stdout"
        },
        {
          "output_type": "execute_result",
          "data": {
            "text/plain": [
              "[nan, 0.10000000149011612]"
            ]
          },
          "metadata": {
            "tags": []
          },
          "execution_count": 18
        }
      ]
    },
    {
      "cell_type": "code",
      "metadata": {
        "id": "9yvm_IF25j7T",
        "colab_type": "code",
        "colab": {}
      },
      "source": [
        ""
      ],
      "execution_count": null,
      "outputs": []
    },
    {
      "cell_type": "markdown",
      "metadata": {
        "id": "Gnq6BH6J3pNl",
        "colab_type": "text"
      },
      "source": [
        "MODEL #2 - 입력레이어 batchNormalization 적용"
      ]
    },
    {
      "cell_type": "code",
      "metadata": {
        "id": "EqDxnc_Oz799",
        "colab_type": "code",
        "colab": {
          "base_uri": "https://localhost:8080/",
          "height": 383
        },
        "outputId": "df906d0a-771d-4fb8-a945-d6fc38ce5829"
      },
      "source": [
        "model_fc2 = Sequential()\n",
        "\n",
        "# 첫번째 입력레이어 - BatchNormalization 적용\n",
        "model_fc2.add(Dense(3072,input_dim=3072))\n",
        "model_fc2.add(BatchNormalization())\n",
        "model_fc2.add(layers.Activation(activations.relu))\n",
        "\n",
        "\n",
        "model_fc2.add(Dense(1024,activation='relu'))\n",
        "model_fc2.add(Dense(512,activation='relu'))\n",
        "model_fc2.add(Dense(256,activation='relu'))\n",
        "model_fc2.add(Dense(10,activation='softmax'))\n",
        "\n",
        "# gradient decent 추가\n",
        "sgd = SGD(lr=1e1, decay=1 )\n",
        "\n",
        "model_fc2.compile(optimizer='sgd',\n",
        "                 loss='categorical_crossentropy',\n",
        "                 metrics=['accuracy'])\n",
        "\n",
        "model_fc2.summary()\n",
        "\n",
        "\n"
      ],
      "execution_count": 19,
      "outputs": [
        {
          "output_type": "stream",
          "text": [
            "Model: \"sequential_1\"\n",
            "_________________________________________________________________\n",
            "Layer (type)                 Output Shape              Param #   \n",
            "=================================================================\n",
            "dense_5 (Dense)              (None, 3072)              9440256   \n",
            "_________________________________________________________________\n",
            "batch_normalization (BatchNo (None, 3072)              12288     \n",
            "_________________________________________________________________\n",
            "activation (Activation)      (None, 3072)              0         \n",
            "_________________________________________________________________\n",
            "dense_6 (Dense)              (None, 1024)              3146752   \n",
            "_________________________________________________________________\n",
            "dense_7 (Dense)              (None, 512)               524800    \n",
            "_________________________________________________________________\n",
            "dense_8 (Dense)              (None, 256)               131328    \n",
            "_________________________________________________________________\n",
            "dense_9 (Dense)              (None, 10)                2570      \n",
            "=================================================================\n",
            "Total params: 13,257,994\n",
            "Trainable params: 13,251,850\n",
            "Non-trainable params: 6,144\n",
            "_________________________________________________________________\n"
          ],
          "name": "stdout"
        }
      ]
    },
    {
      "cell_type": "code",
      "metadata": {
        "id": "ta9-xJQF2IUX",
        "colab_type": "code",
        "colab": {
          "base_uri": "https://localhost:8080/",
          "height": 733
        },
        "outputId": "b3a3c785-b13c-4499-e88e-4db5c5c43dba"
      },
      "source": [
        "model_fc2.fit(X_train_1D, one_hot_labels, epochs=20, batch_size=1000, validation_split=0.2)"
      ],
      "execution_count": 20,
      "outputs": [
        {
          "output_type": "stream",
          "text": [
            "Epoch 1/20\n",
            " 1/40 [..............................] - ETA: 0s - loss: 2.5184 - accuracy: 0.0990WARNING:tensorflow:Callbacks method `on_train_batch_end` is slow compared to the batch time (batch time: 0.0057s vs `on_train_batch_end` time: 0.0098s). Check your callbacks.\n",
            "37/40 [==========================>...] - ETA: 0s - loss: 2.1215 - accuracy: 0.2399WARNING:tensorflow:Callbacks method `on_test_batch_end` is slow compared to the batch time (batch time: 0.0024s vs `on_test_batch_end` time: 0.0041s). Check your callbacks.\n",
            "40/40 [==============================] - 1s 18ms/step - loss: 2.1100 - accuracy: 0.2451 - val_loss: 2.6112 - val_accuracy: 0.1941\n",
            "Epoch 2/20\n",
            "40/40 [==============================] - 1s 15ms/step - loss: 1.8753 - accuracy: 0.3464 - val_loss: 2.0873 - val_accuracy: 0.2789\n",
            "Epoch 3/20\n",
            "40/40 [==============================] - 1s 15ms/step - loss: 1.7667 - accuracy: 0.3879 - val_loss: 1.8937 - val_accuracy: 0.3366\n",
            "Epoch 4/20\n",
            "40/40 [==============================] - 1s 15ms/step - loss: 1.6938 - accuracy: 0.4123 - val_loss: 1.7707 - val_accuracy: 0.3819\n",
            "Epoch 5/20\n",
            "40/40 [==============================] - 1s 15ms/step - loss: 1.6393 - accuracy: 0.4324 - val_loss: 1.7045 - val_accuracy: 0.4058\n",
            "Epoch 6/20\n",
            "40/40 [==============================] - 1s 15ms/step - loss: 1.5945 - accuracy: 0.4500 - val_loss: 1.6689 - val_accuracy: 0.4169\n",
            "Epoch 7/20\n",
            "40/40 [==============================] - 1s 15ms/step - loss: 1.5563 - accuracy: 0.4652 - val_loss: 1.6457 - val_accuracy: 0.4271\n",
            "Epoch 8/20\n",
            "40/40 [==============================] - 1s 15ms/step - loss: 1.5224 - accuracy: 0.4748 - val_loss: 1.6227 - val_accuracy: 0.4347\n",
            "Epoch 9/20\n",
            "40/40 [==============================] - 1s 15ms/step - loss: 1.4924 - accuracy: 0.4855 - val_loss: 1.6036 - val_accuracy: 0.4445\n",
            "Epoch 10/20\n",
            "40/40 [==============================] - 1s 15ms/step - loss: 1.4644 - accuracy: 0.4981 - val_loss: 1.5858 - val_accuracy: 0.4487\n",
            "Epoch 11/20\n",
            "40/40 [==============================] - 1s 15ms/step - loss: 1.4379 - accuracy: 0.5073 - val_loss: 1.5763 - val_accuracy: 0.4526\n",
            "Epoch 12/20\n",
            "40/40 [==============================] - 1s 15ms/step - loss: 1.4134 - accuracy: 0.5150 - val_loss: 1.5671 - val_accuracy: 0.4533\n",
            "Epoch 13/20\n",
            "40/40 [==============================] - 1s 15ms/step - loss: 1.3892 - accuracy: 0.5246 - val_loss: 1.5563 - val_accuracy: 0.4598\n",
            "Epoch 14/20\n",
            "40/40 [==============================] - 1s 15ms/step - loss: 1.3658 - accuracy: 0.5338 - val_loss: 1.5458 - val_accuracy: 0.4614\n",
            "Epoch 15/20\n",
            "40/40 [==============================] - 1s 15ms/step - loss: 1.3444 - accuracy: 0.5418 - val_loss: 1.5273 - val_accuracy: 0.4674\n",
            "Epoch 16/20\n",
            "40/40 [==============================] - 1s 15ms/step - loss: 1.3210 - accuracy: 0.5495 - val_loss: 1.5300 - val_accuracy: 0.4677\n",
            "Epoch 17/20\n",
            "40/40 [==============================] - 1s 15ms/step - loss: 1.3015 - accuracy: 0.5561 - val_loss: 1.5100 - val_accuracy: 0.4758\n",
            "Epoch 18/20\n",
            "40/40 [==============================] - 1s 15ms/step - loss: 1.2800 - accuracy: 0.5647 - val_loss: 1.5095 - val_accuracy: 0.4731\n",
            "Epoch 19/20\n",
            "40/40 [==============================] - 1s 15ms/step - loss: 1.2602 - accuracy: 0.5734 - val_loss: 1.4884 - val_accuracy: 0.4841\n",
            "Epoch 20/20\n",
            "40/40 [==============================] - 1s 15ms/step - loss: 1.2401 - accuracy: 0.5797 - val_loss: 1.4863 - val_accuracy: 0.4884\n"
          ],
          "name": "stdout"
        },
        {
          "output_type": "execute_result",
          "data": {
            "text/plain": [
              "<tensorflow.python.keras.callbacks.History at 0x7fd24038e908>"
            ]
          },
          "metadata": {
            "tags": []
          },
          "execution_count": 20
        }
      ]
    },
    {
      "cell_type": "markdown",
      "metadata": {
        "id": "2i2m0IvM_IUS",
        "colab_type": "text"
      },
      "source": [
        "Test Set 검증하기"
      ]
    },
    {
      "cell_type": "code",
      "metadata": {
        "id": "WFsWUi9R92Ur",
        "colab_type": "code",
        "colab": {
          "base_uri": "https://localhost:8080/",
          "height": 50
        },
        "outputId": "5889cb3b-ae27-4e17-bec4-47a7fde90b8d"
      },
      "source": [
        "X_test_1D = X_test.reshape(-1,3072)\n",
        "one_hot_y_test = keras.utils.to_categorical(y_test, num_classes=10)\n",
        "\n",
        "model_fc2.evaluate(X_test_1D, one_hot_y_test, batch_size=1000)"
      ],
      "execution_count": 21,
      "outputs": [
        {
          "output_type": "stream",
          "text": [
            "10/10 [==============================] - 0s 7ms/step - loss: 1.4668 - accuracy: 0.4863\n"
          ],
          "name": "stdout"
        },
        {
          "output_type": "execute_result",
          "data": {
            "text/plain": [
              "[1.4668201208114624, 0.486299991607666]"
            ]
          },
          "metadata": {
            "tags": []
          },
          "execution_count": 21
        }
      ]
    },
    {
      "cell_type": "code",
      "metadata": {
        "id": "6QQxLCWe92Wv",
        "colab_type": "code",
        "colab": {}
      },
      "source": [
        ""
      ],
      "execution_count": null,
      "outputs": []
    },
    {
      "cell_type": "markdown",
      "metadata": {
        "id": "O_qqR9hH_PPn",
        "colab_type": "text"
      },
      "source": [
        "모델 layer 분석\n"
      ]
    },
    {
      "cell_type": "code",
      "metadata": {
        "id": "2Kc4ehDIRtUQ",
        "colab_type": "code",
        "colab": {
          "base_uri": "https://localhost:8080/",
          "height": 864
        },
        "outputId": "559135a5-f706-4318-b196-32d790e0dd7b"
      },
      "source": [
        "from keras.utils import plot_model\n",
        "\n",
        "plot_model(model_fc2, to_file='./model.png', show_layer_names=True, show_shapes=True)"
      ],
      "execution_count": 22,
      "outputs": [
        {
          "output_type": "execute_result",
          "data": {
            "image/png": "[encoded data removed]",
            "text/plain": [
              "<IPython.core.display.Image object>"
            ]
          },
          "metadata": {
            "tags": []
          },
          "execution_count": 22
        }
      ]
    },
    {
      "cell_type": "code",
      "metadata": {
        "id": "5ufB5MPM92Y_",
        "colab_type": "code",
        "colab": {
          "base_uri": "https://localhost:8080/",
          "height": 1000
        },
        "outputId": "ce87d9fd-4750-4fa8-8ac6-c7a61087da5c"
      },
      "source": [
        "for layer in model_fc2.layers:\n",
        "  print(layer.get_weights())"
      ],
      "execution_count": 23,
      "outputs": [
        {
          "output_type": "stream",
          "text": [
            "[array([[-0.02356923, -0.00958313, -0.01953031, ...,  0.01323523,\n",
            "        -0.02354655,  0.00169034],\n",
            "       [-0.00822147,  0.01502479,  0.0104743 , ...,  0.01323608,\n",
            "         0.02453218, -0.01767026],\n",
            "       [-0.01484279,  0.00030998,  0.02816054, ..., -0.02835057,\n",
            "         0.00097444,  0.01226849],\n",
            "       ...,\n",
            "       [-0.01783483, -0.0170936 ,  0.02326149, ..., -0.00973975,\n",
            "        -0.01882831, -0.01327992],\n",
            "       [-0.00039587, -0.00741903, -0.02101863, ..., -0.01556014,\n",
            "        -0.00991291,  0.02589784],\n",
            "       [ 0.02484599, -0.01718272, -0.02442002, ...,  0.02009685,\n",
            "         0.01383755,  0.00571709]], dtype=float32), array([ 9.5230491e-14, -3.4307222e-13, -4.7033915e-13, ...,\n",
            "       -1.5008394e-12,  6.4852651e-14,  1.5791103e-12], dtype=float32)]\n",
            "[array([1.0003123, 1.0005019, 1.0001875, ..., 1.000561 , 1.0004494,\n",
            "       0.9996863], dtype=float32), array([-2.7579934e-04,  2.5843989e-04, -3.7571426e-05, ...,\n",
            "        1.7653897e-03, -5.8759580e-04, -1.7874191e-03], dtype=float32), array([ 84.17349 , -14.423804,  11.406532, ..., -25.932417,  65.40064 ,\n",
            "        39.703365], dtype=float32), array([3654.4854, 3402.0234, 3901.975 , ..., 3594.8396, 2963.81  ,\n",
            "       4213.873 ], dtype=float32)]\n",
            "[]\n",
            "[array([[-0.01608034,  0.03696822,  0.03770815, ..., -0.0245501 ,\n",
            "         0.00394472,  0.00935827],\n",
            "       [ 0.03255586,  0.02024908, -0.03182434, ..., -0.03120429,\n",
            "         0.01968182, -0.02797256],\n",
            "       [-0.02005104,  0.00095525, -0.02407712, ...,  0.0137234 ,\n",
            "        -0.01976851,  0.03305061],\n",
            "       ...,\n",
            "       [-0.00939399, -0.02942372, -0.03065391, ..., -0.02932151,\n",
            "        -0.02529999, -0.02417823],\n",
            "       [ 0.01500993, -0.00425055,  0.01006064, ...,  0.03755672,\n",
            "         0.00325424,  0.01020432],\n",
            "       [ 0.01018076,  0.01615994,  0.03478123, ..., -0.01987339,\n",
            "         0.00373945, -0.03817189]], dtype=float32), array([ 1.3932515e-03, -3.5595554e-03,  2.2253049e-05, ...,\n",
            "        4.1066511e-03,  4.5188665e-03,  4.4139475e-03], dtype=float32)]\n",
            "[array([[-1.1624087e-02, -2.3996346e-02, -3.2993410e-02, ...,\n",
            "         9.6237659e-03, -4.8730660e-02, -4.7650885e-02],\n",
            "       [-6.1815027e-02, -4.9825989e-02,  7.2093611e-04, ...,\n",
            "        -5.2742213e-05,  1.9253366e-02, -6.1381910e-02],\n",
            "       [-5.5386215e-02,  3.4292113e-02,  4.4532239e-02, ...,\n",
            "        -6.0214020e-02, -1.0692780e-02,  3.6284111e-03],\n",
            "       ...,\n",
            "       [-1.8460253e-02,  1.1602097e-02,  4.7353566e-02, ...,\n",
            "         6.1995570e-02,  4.3141250e-02,  4.9158059e-02],\n",
            "       [-1.1455587e-02, -3.1646661e-02, -4.3318514e-02, ...,\n",
            "         3.9790627e-03,  2.2287413e-02,  2.7979977e-02],\n",
            "       [-1.6797919e-02,  5.6220990e-02, -1.0056151e-02, ...,\n",
            "        -4.1681174e-02,  5.8347333e-02,  2.4643267e-02]], dtype=float32), array([-2.74584045e-06,  6.67425850e-03,  4.13025264e-05, -9.60983161e-04,\n",
            "        1.48239196e-04,  7.39232544e-03,  3.26900365e-04, -9.23726984e-05,\n",
            "        6.68367883e-03,  1.30330169e-04,  1.33669423e-03, -1.90424605e-03,\n",
            "        1.52532244e-03, -1.65535559e-04,  1.01102656e-02,  1.13109429e-03,\n",
            "       -4.88151534e-04, -6.05114736e-03,  1.08090858e-03,  7.00478116e-03,\n",
            "        1.40574120e-04,  5.45463338e-03, -1.44038838e-03, -3.78367421e-03,\n",
            "       -1.77683996e-03, -2.87788943e-03, -3.11352359e-03, -1.32838124e-03,\n",
            "        4.25983733e-03,  4.08133725e-03,  2.50218261e-04,  1.54098507e-03,\n",
            "       -6.93853508e-05,  1.88084305e-05,  3.40054370e-03,  3.65024991e-03,\n",
            "       -5.76539896e-04, -1.14123500e-03,  7.90374354e-03,  4.27228352e-03,\n",
            "        2.42175348e-03,  3.49432905e-03,  1.18164497e-03,  2.76091788e-03,\n",
            "        2.25632661e-03, -7.13400659e-04,  2.33970396e-03, -8.99017032e-04,\n",
            "       -3.90598114e-04,  1.06894097e-03,  8.74467939e-03, -1.14224362e-03,\n",
            "        1.18120003e-03,  5.08255442e-04,  2.00485927e-03, -2.92491401e-03,\n",
            "       -2.74036732e-03,  2.29664904e-04,  6.31598406e-04,  4.83625429e-03,\n",
            "        6.76784804e-03, -7.41365412e-03,  3.98827856e-03,  6.14361605e-03,\n",
            "       -2.34544580e-03,  6.67594885e-03,  1.18249003e-03,  2.70086969e-03,\n",
            "       -1.60861816e-02,  4.74080769e-03, -5.20176254e-04, -1.21026384e-02,\n",
            "       -3.39562306e-04, -2.42557446e-03,  5.39240546e-06, -1.16390008e-02,\n",
            "       -2.68598029e-04, -6.36937376e-03, -4.10559122e-04,  2.60708010e-04,\n",
            "        2.88147293e-03,  8.89261079e-04,  4.93719988e-03, -1.44027959e-04,\n",
            "        4.19329095e-04,  5.86421182e-03,  2.90694617e-04, -5.17114277e-05,\n",
            "        2.17206636e-03, -9.23506566e-04,  3.43988650e-03, -5.34187013e-04,\n",
            "       -8.55655293e-04, -9.06329253e-04,  2.08551832e-03,  1.36194154e-04,\n",
            "       -5.40781906e-03,  1.06325932e-03,  1.94395820e-04,  1.29218947e-03,\n",
            "       -6.89990527e-04,  2.63005565e-03,  2.01004045e-03,  1.57728151e-03,\n",
            "        9.39812962e-05,  2.82561843e-04, -3.28770810e-04,  9.14096774e-04,\n",
            "        1.91489118e-03, -5.70342131e-03,  1.01980362e-02,  4.98131558e-04,\n",
            "        4.06939304e-04,  1.90326315e-03,  5.62079810e-03, -4.15815227e-03,\n",
            "       -7.04366481e-04, -1.95155037e-03, -1.33835696e-04, -8.18533171e-03,\n",
            "        1.09921244e-03, -3.38057335e-03, -2.82770349e-03, -2.05170549e-03,\n",
            "        1.20050004e-02,  3.72512906e-04, -6.26880210e-04, -2.20761774e-03,\n",
            "       -9.02160100e-05,  8.00942726e-05,  2.09883810e-03, -1.16490424e-04,\n",
            "        3.10943997e-03, -5.42421418e-04,  2.88615795e-03, -7.00989156e-04,\n",
            "       -3.85022940e-05, -1.55123125e-03,  1.28725660e-03, -3.48084047e-03,\n",
            "        3.88788932e-04,  3.86407977e-04, -3.37340566e-03,  2.80540728e-04,\n",
            "       -2.47699115e-03,  2.01152498e-03, -2.07228120e-03,  2.78769829e-03,\n",
            "        6.31750422e-03, -9.39073414e-03, -2.92898365e-03,  2.19898601e-03,\n",
            "        1.52761361e-03, -9.56714526e-03,  7.24284910e-03, -2.46971904e-04,\n",
            "        2.82855076e-03,  1.42022036e-02, -5.20237116e-03,  2.25511743e-04,\n",
            "        1.69415772e-03, -5.81790169e-04, -1.00776018e-03,  1.38499392e-02,\n",
            "        7.26465660e-04,  3.92415421e-03, -5.64340688e-03,  3.36276647e-03,\n",
            "       -9.83452331e-03, -9.59157886e-04, -1.28815277e-03,  4.45461454e-04,\n",
            "       -1.96821312e-03, -4.61503584e-03,  7.00145378e-04,  3.01910285e-03,\n",
            "        7.93483481e-03, -6.20313082e-03,  6.63686311e-03, -1.01432763e-03,\n",
            "        1.09556760e-03,  4.60009460e-06, -7.91426376e-03, -7.23037636e-04,\n",
            "        2.89375521e-03,  7.23275496e-03, -1.31661669e-04,  4.59627743e-04,\n",
            "        3.40191560e-04,  3.05151404e-03, -7.98901601e-04,  1.15853222e-03,\n",
            "        4.27327468e-04, -3.70637118e-03, -2.23455578e-03, -1.92116568e-04,\n",
            "        5.80903655e-03,  1.58110561e-04, -1.52602757e-03,  7.85298273e-03,\n",
            "       -6.67493045e-03,  2.88541149e-03,  2.11988110e-03,  1.08005202e-04,\n",
            "       -7.96504784e-03,  1.23155257e-03, -1.82439503e-03,  7.14923348e-03,\n",
            "        4.27228957e-03, -4.41091042e-03, -3.12639517e-03,  5.85488626e-04,\n",
            "        1.67512789e-03, -7.36240938e-04, -1.99166103e-03, -9.95825612e-05,\n",
            "       -3.09995189e-03,  2.95984861e-03, -2.36500171e-03,  4.92995779e-04,\n",
            "       -3.09188646e-04,  4.37491247e-03, -9.68424865e-05, -5.68722095e-03,\n",
            "        6.27689646e-04,  4.84952377e-03,  2.96004373e-03, -3.79179348e-03,\n",
            "       -5.27028576e-04, -4.23048902e-03,  7.07879197e-04,  4.67204954e-04,\n",
            "       -4.49881097e-03, -2.53030285e-03,  4.68622049e-04,  5.98356244e-04,\n",
            "        7.19746249e-03, -3.08769103e-03, -1.19490444e-03,  3.77026177e-03,\n",
            "        1.20367231e-02, -4.69865889e-04, -5.44093084e-04, -3.52711161e-03,\n",
            "        8.87855786e-05,  2.55175546e-04,  1.13104435e-03,  1.62193988e-04,\n",
            "        1.50458247e-03, -2.87642912e-03, -3.15405289e-03, -3.73227638e-04,\n",
            "        2.16236943e-03, -8.75847973e-03,  8.38520878e-04,  5.80820534e-03,\n",
            "       -4.13460744e-04,  5.65428891e-05, -3.99533194e-04, -2.54926737e-03,\n",
            "       -1.65367068e-03,  1.03084622e-02,  5.86292893e-03,  1.59384951e-03,\n",
            "        8.63153138e-04, -2.30335537e-03,  1.14795398e-02, -5.23869880e-04,\n",
            "        5.28586190e-03,  1.91869412e-03,  3.73349321e-05,  3.52586212e-04,\n",
            "        8.29944201e-03,  1.97191141e-03, -8.83009192e-03,  1.25711132e-03,\n",
            "       -4.53890394e-03,  6.60580117e-04,  8.73617391e-05,  5.05790813e-03,\n",
            "        5.96444309e-03, -9.43587977e-04, -6.16636680e-05,  4.12497343e-03,\n",
            "        7.47121964e-03, -3.51782190e-03, -5.74073428e-03, -1.83904264e-03,\n",
            "       -9.14034958e-04, -4.28917701e-04,  3.54595482e-03,  1.28530792e-03,\n",
            "       -1.14275061e-03,  4.33151727e-04, -7.29356369e-04, -2.26577325e-03,\n",
            "       -4.97802114e-03, -2.30428879e-03, -3.25073343e-04, -1.11239485e-03,\n",
            "       -1.54149870e-03,  8.59102141e-03,  1.82063799e-04,  1.03856914e-03,\n",
            "        1.00054103e-03,  9.15342756e-03, -3.28342256e-04, -2.87031801e-03,\n",
            "        1.87638390e-03,  1.69715029e-04, -1.42039405e-03,  1.87791965e-03,\n",
            "        1.15156919e-03,  5.20956097e-03, -3.29096452e-04,  1.30904617e-03,\n",
            "       -2.16991641e-04, -8.04482785e-04,  3.21880775e-03,  5.71926730e-03,\n",
            "        4.96041821e-03,  1.14518795e-02,  1.75753434e-04, -2.04672731e-04,\n",
            "        6.49142824e-03,  6.96625139e-05,  6.16465416e-03, -4.99336340e-04,\n",
            "       -8.61115113e-05,  1.92716217e-03,  6.90047105e-04,  1.00200828e-02,\n",
            "        8.10978282e-03, -5.00014564e-03, -7.13309855e-05,  8.10524169e-03,\n",
            "       -3.26598599e-03,  2.50191707e-03, -6.63916755e-04, -3.99946002e-04,\n",
            "       -7.59369112e-04, -3.98351019e-03,  8.27849936e-03, -6.28025178e-03,\n",
            "        4.66971047e-04,  1.52055430e-03,  1.54057378e-03,  6.51296228e-04,\n",
            "       -3.55444197e-03, -4.68941376e-04,  2.11438676e-03, -7.39894691e-04,\n",
            "        4.97303845e-04,  3.46815051e-03, -5.60408342e-04, -3.22526391e-03,\n",
            "       -3.05064279e-03, -3.72848939e-03,  6.05043198e-04,  3.68920737e-03,\n",
            "       -4.30847332e-03, -3.20879190e-04,  8.52201891e-04, -9.00510175e-04,\n",
            "       -6.31710654e-03,  4.15748102e-04,  8.90296325e-03, -6.12224627e-04,\n",
            "        2.92628189e-03,  4.20452608e-03, -4.86824196e-04, -3.53151863e-03,\n",
            "        2.10571755e-03, -2.15781809e-04, -2.25121411e-03, -9.05286148e-03,\n",
            "        2.01328367e-05,  1.30598363e-03,  7.39828078e-03,  2.78552272e-03,\n",
            "        5.45093091e-04, -4.25262580e-04, -4.37697599e-04,  2.52804114e-03,\n",
            "       -3.67424538e-04,  3.95426247e-03,  5.10542560e-03, -6.91559690e-04,\n",
            "        1.55237969e-03,  2.44896766e-03,  4.64081444e-04,  4.56883572e-03,\n",
            "       -1.47245312e-03, -1.02616490e-04,  6.04935980e-04,  2.93458486e-03,\n",
            "        1.30829513e-02, -2.07315985e-04, -1.91237277e-03,  1.53228451e-04,\n",
            "        9.96637810e-03, -1.17160948e-02,  3.68848862e-03, -9.09647904e-04,\n",
            "        6.67997589e-03,  1.30164344e-03, -9.39215068e-03,  3.42569285e-04,\n",
            "        7.43452879e-03,  1.62052063e-04,  1.23664842e-03,  1.88176011e-04,\n",
            "       -2.78002117e-03,  7.04299018e-04, -8.27652810e-04,  1.40144089e-02,\n",
            "        5.62295434e-04,  1.11771477e-02,  2.01977277e-03, -2.31896248e-03,\n",
            "       -7.31631517e-05,  2.05367105e-04,  1.22877117e-03, -2.08211318e-03,\n",
            "        4.16080467e-03,  4.67301626e-03,  8.95609800e-03, -1.10161433e-03,\n",
            "        3.47568747e-03,  3.43961664e-03, -4.24779858e-03,  2.40708352e-03,\n",
            "        4.00346471e-04, -8.89274944e-03, -8.71586555e-04, -7.20784592e-04,\n",
            "        1.39229279e-03,  2.19635735e-03,  5.84899215e-04,  2.25952943e-04,\n",
            "        2.30226363e-03,  4.89325088e-04, -4.07549087e-03,  4.51390893e-04,\n",
            "        2.08153506e-03,  1.08148597e-04,  1.16726235e-02, -1.16205658e-03,\n",
            "       -7.36287679e-04, -8.31595571e-06,  5.41375345e-03,  5.51341521e-03,\n",
            "       -2.54537590e-04,  4.28826082e-03,  5.52861299e-03,  1.95444954e-04,\n",
            "        4.64299368e-03, -4.98362631e-03,  2.63457070e-04,  1.95854157e-03,\n",
            "       -2.17401772e-03,  3.64486082e-03,  3.00228526e-03, -2.22142367e-03,\n",
            "       -1.94345589e-03, -1.03840744e-03, -3.98682756e-03,  1.88822582e-04,\n",
            "        1.05989515e-03, -4.27159481e-03,  6.63924264e-03,  5.54183149e-04,\n",
            "        9.45883803e-03, -8.25455785e-03,  4.14460944e-03, -1.31706102e-03,\n",
            "       -5.11712860e-04, -4.93243460e-05,  1.70356536e-03,  5.28075639e-03,\n",
            "        3.21000419e-03,  3.27925757e-03, -8.39943904e-03, -4.53011040e-03,\n",
            "       -5.09470562e-03, -1.37283336e-04, -6.02193177e-03, -1.08981258e-04,\n",
            "        8.05543642e-03, -3.50464339e-04, -3.16674029e-03,  8.97053338e-04,\n",
            "        7.22640613e-03,  1.48451794e-03, -6.90521905e-04, -2.49647582e-03,\n",
            "        4.08955012e-03, -3.90742114e-03,  4.74116392e-03,  1.21181924e-03,\n",
            "       -3.05644004e-03,  5.14457608e-03,  4.32587694e-04,  7.49273400e-04,\n",
            "        2.30839103e-03,  3.65133863e-04, -1.68679166e-04,  2.82581110e-04,\n",
            "        2.07749521e-03,  1.43959638e-04, -9.06416913e-04,  2.05174964e-02],\n",
            "      dtype=float32)]\n",
            "[array([[-0.04165722, -0.04065121, -0.01783329, ...,  0.06639656,\n",
            "         0.06565721, -0.02654097],\n",
            "       [-0.05572033, -0.04184184, -0.04102872, ...,  0.00708365,\n",
            "         0.05439061, -0.04388795],\n",
            "       [-0.08175608,  0.05292797,  0.08207531, ..., -0.04634039,\n",
            "        -0.02417943,  0.01185793],\n",
            "       ...,\n",
            "       [-0.00151284,  0.0244495 , -0.01082677, ..., -0.03357139,\n",
            "         0.04731544, -0.03336703],\n",
            "       [ 0.03927437, -0.03145517,  0.0589209 , ...,  0.05441228,\n",
            "         0.03333115,  0.08099366],\n",
            "       [ 0.09783304, -0.04331018,  0.08134261, ..., -0.08374115,\n",
            "        -0.05171566, -0.05236198]], dtype=float32), array([ 2.27108002e-02, -8.13736988e-04,  1.91131898e-04,  7.65227154e-03,\n",
            "        2.81920311e-05,  4.38927207e-03, -7.46982769e-05,  5.40730217e-03,\n",
            "       -8.05971026e-03, -1.05850762e-02,  2.17613415e-04, -1.44230081e-02,\n",
            "       -1.23894820e-02, -3.61856841e-03, -6.10885967e-04, -6.67468971e-03,\n",
            "        5.07278508e-03, -6.87309730e-05, -1.02523438e-04,  1.15747685e-02,\n",
            "       -7.61931413e-04, -9.23695392e-04,  8.51187215e-05,  2.09163263e-04,\n",
            "        1.57580059e-03,  3.86197586e-03,  5.22287097e-03, -6.56158780e-04,\n",
            "       -6.23536238e-04, -7.11930729e-03,  1.41853373e-02,  5.25255036e-03,\n",
            "       -5.03513217e-03,  8.10862170e-04,  5.02229232e-05,  5.65230427e-03,\n",
            "        1.05422372e-02,  6.98053837e-03, -3.86332115e-03,  4.28508129e-03,\n",
            "        9.15215537e-03,  3.61459563e-04, -6.02873927e-03,  5.60757611e-03,\n",
            "       -2.58378830e-04,  9.76541359e-03, -2.80306675e-03, -3.38941789e-03,\n",
            "       -9.19276732e-04, -3.89373885e-03,  1.93462986e-02,  3.84294544e-03,\n",
            "       -2.87688919e-03,  1.10354554e-03,  1.17686354e-02, -1.87218271e-03,\n",
            "        5.48496982e-03, -4.25686920e-03,  1.83580651e-05, -8.49720370e-03,\n",
            "        1.07353655e-04,  1.32401090e-03,  6.87091332e-03, -9.47289821e-03,\n",
            "       -9.29340534e-03,  1.52885793e-02,  1.23912776e-02,  6.82795327e-03,\n",
            "        2.63116905e-03,  4.22185427e-03, -1.01982504e-02, -1.48914231e-04,\n",
            "       -5.06082503e-03,  1.04314340e-02,  2.27421497e-05, -2.53032451e-03,\n",
            "        9.33095440e-03, -2.18543853e-03, -7.52849213e-04,  8.22403654e-03,\n",
            "        1.21882977e-02, -5.37442465e-05, -6.75757695e-03, -1.13252376e-03,\n",
            "        7.63998181e-03, -1.79349482e-02, -1.55784073e-03,  5.49002783e-04,\n",
            "        1.29528120e-02, -3.44484136e-03, -7.26649887e-05,  2.85424269e-03,\n",
            "        8.82823588e-05,  2.22828169e-03, -5.23887793e-05,  7.15630827e-03,\n",
            "        1.62697732e-02,  1.61249861e-02, -1.76414009e-03,  2.83334614e-03,\n",
            "        1.02803130e-02, -3.90675181e-04,  3.44188046e-03, -1.61906020e-04,\n",
            "        8.37665796e-03,  3.13771598e-04, -5.52958902e-03,  5.48525527e-03,\n",
            "        1.25171255e-05,  7.76375691e-06,  1.69788732e-03,  6.82913233e-03,\n",
            "        9.23566893e-03,  2.33433684e-06, -5.26220025e-03, -5.12805814e-03,\n",
            "        5.91019075e-03,  1.15349563e-02,  3.34976660e-03,  1.15996683e-02,\n",
            "       -2.05954863e-03,  7.36674480e-03, -3.87664651e-03,  9.46090149e-05,\n",
            "       -4.41289740e-03, -5.66426013e-03, -1.15745822e-02, -2.43484508e-03,\n",
            "       -1.82160158e-02, -7.82263186e-03,  3.11099039e-03, -4.94346442e-03,\n",
            "        3.55329576e-05,  1.75335687e-02,  2.71828473e-03,  1.27255162e-02,\n",
            "        8.81651416e-03,  1.13895338e-03, -7.88408332e-04,  2.28486466e-03,\n",
            "        7.31418608e-03, -7.21159205e-03,  4.59357805e-04,  7.34664826e-03,\n",
            "        2.37621483e-03, -3.90728237e-03, -1.94355170e-03,  8.08634516e-03,\n",
            "        3.70078167e-04,  6.08518999e-03,  3.79722624e-04, -1.48462714e-04,\n",
            "        7.04228529e-04, -2.19579190e-02,  1.82250552e-02,  4.37455997e-03,\n",
            "        8.10732320e-03,  1.18961968e-02, -4.13143169e-03,  1.07984692e-02,\n",
            "        6.04794186e-04, -6.15575351e-04,  3.01003340e-03,  2.36947788e-04,\n",
            "        1.35172706e-03, -9.10295267e-03,  5.54804597e-03,  5.44565404e-03,\n",
            "       -7.27942307e-03, -1.61008770e-03, -4.42724768e-03, -6.36320747e-03,\n",
            "        2.06943252e-03, -6.84100064e-03, -5.47186239e-04,  7.15580862e-03,\n",
            "       -4.34437674e-03,  5.62361267e-04, -2.02494836e-03, -1.68176449e-03,\n",
            "        3.21714120e-04, -7.96244945e-04,  3.59099737e-04,  2.44438206e-03,\n",
            "        6.18287735e-03, -3.83450161e-03,  5.10241603e-03, -4.43733251e-03,\n",
            "        2.50300672e-03, -7.26966187e-03, -4.98545822e-04,  3.26886238e-03,\n",
            "        6.66593667e-04,  5.58501994e-03, -2.24429579e-03,  1.05084991e-05,\n",
            "        1.28009560e-04,  4.40267468e-04,  5.94780315e-04,  4.51805489e-03,\n",
            "        2.10003350e-02,  1.60374015e-03,  1.78976753e-03, -2.92671099e-03,\n",
            "        9.11775883e-03, -1.56250484e-02, -5.41696930e-03, -1.41935155e-03,\n",
            "        1.07655972e-02,  6.70419633e-03, -7.65848032e-04, -8.08589277e-04,\n",
            "       -8.24669609e-04,  1.41329067e-02, -1.53038725e-02,  1.42294983e-03,\n",
            "        2.51458056e-04,  2.35435204e-04,  1.88923848e-03,  4.60146694e-03,\n",
            "        1.17248688e-02, -3.65277869e-04, -8.55350445e-05,  3.60837881e-03,\n",
            "        4.65666084e-03, -2.92564882e-03,  1.31785567e-03,  6.24869578e-03,\n",
            "        2.93403002e-03,  1.16354330e-02,  1.91161106e-03, -4.08392865e-03,\n",
            "       -2.47557252e-03, -1.98281967e-04, -2.55482318e-03, -1.54999507e-04,\n",
            "        4.83443402e-03, -2.78773741e-03, -7.25729763e-07, -9.69924848e-04,\n",
            "       -4.82394546e-03,  6.71685254e-03, -2.84933625e-03, -4.03623417e-05,\n",
            "       -1.17689231e-03, -1.67485904e-02, -4.64982702e-04, -1.38927288e-02,\n",
            "       -8.44027672e-04, -3.39642889e-03, -2.59932767e-06,  4.91514942e-03,\n",
            "        7.74323184e-04, -1.54451402e-02,  5.47546602e-04,  8.83601373e-04],\n",
            "      dtype=float32)]\n",
            "[array([[-0.09326566, -0.11507484,  0.0543728 , ..., -0.14188339,\n",
            "         0.00739049, -0.11777375],\n",
            "       [-0.13811891,  0.15773489, -0.13101038, ...,  0.05611883,\n",
            "        -0.07091034, -0.02056254],\n",
            "       [ 0.05749919,  0.01916024,  0.11881723, ...,  0.04151031,\n",
            "         0.04863356,  0.09569076],\n",
            "       ...,\n",
            "       [-0.02213687,  0.07432255, -0.1411831 , ..., -0.15664095,\n",
            "        -0.03512153,  0.1724956 ],\n",
            "       [ 0.09404131,  0.11982562, -0.08159489, ..., -0.1267944 ,\n",
            "         0.14287704, -0.07500374],\n",
            "       [ 0.00428369, -0.09359698, -0.07302637, ..., -0.12735592,\n",
            "         0.03283601, -0.07448278]], dtype=float32), array([-0.00248545, -0.03810943,  0.04987216, -0.02547319,  0.05286951,\n",
            "       -0.01673475,  0.03615307, -0.01553651,  0.00237408, -0.04292944],\n",
            "      dtype=float32)]\n"
          ],
          "name": "stdout"
        }
      ]
    },
    {
      "cell_type": "code",
      "metadata": {
        "id": "DOOpkYEm_Gw3",
        "colab_type": "code",
        "colab": {}
      },
      "source": [
        ""
      ],
      "execution_count": null,
      "outputs": []
    },
    {
      "cell_type": "code",
      "metadata": {
        "id": "jy2yY0vhRGKf",
        "colab_type": "code",
        "colab": {
          "base_uri": "https://localhost:8080/",
          "height": 1000
        },
        "outputId": "97aa147e-919c-4a2d-bb9a-14f3c77f2183"
      },
      "source": [
        "model_fc2.get_config()"
      ],
      "execution_count": 69,
      "outputs": [
        {
          "output_type": "execute_result",
          "data": {
            "text/plain": [
              "{'layers': [{'class_name': 'InputLayer',\n",
              "   'config': {'batch_input_shape': (None, 3072),\n",
              "    'dtype': 'float32',\n",
              "    'name': 'dense_41_input',\n",
              "    'ragged': False,\n",
              "    'sparse': False}},\n",
              "  {'class_name': 'Dense',\n",
              "   'config': {'activation': 'linear',\n",
              "    'activity_regularizer': None,\n",
              "    'batch_input_shape': (None, 3072),\n",
              "    'bias_constraint': None,\n",
              "    'bias_initializer': {'class_name': 'Zeros', 'config': {}},\n",
              "    'bias_regularizer': None,\n",
              "    'dtype': 'float32',\n",
              "    'kernel_constraint': None,\n",
              "    'kernel_initializer': {'class_name': 'GlorotUniform',\n",
              "     'config': {'seed': None}},\n",
              "    'kernel_regularizer': None,\n",
              "    'name': 'dense_41',\n",
              "    'trainable': True,\n",
              "    'units': 3072,\n",
              "    'use_bias': True}},\n",
              "  {'class_name': 'BatchNormalization',\n",
              "   'config': {'axis': ListWrapper([1]),\n",
              "    'beta_constraint': None,\n",
              "    'beta_initializer': {'class_name': 'Zeros', 'config': {}},\n",
              "    'beta_regularizer': None,\n",
              "    'center': True,\n",
              "    'dtype': 'float32',\n",
              "    'epsilon': 0.001,\n",
              "    'gamma_constraint': None,\n",
              "    'gamma_initializer': {'class_name': 'Ones', 'config': {}},\n",
              "    'gamma_regularizer': None,\n",
              "    'momentum': 0.99,\n",
              "    'moving_mean_initializer': {'class_name': 'Zeros', 'config': {}},\n",
              "    'moving_variance_initializer': {'class_name': 'Ones', 'config': {}},\n",
              "    'name': 'batch_normalization_9',\n",
              "    'scale': True,\n",
              "    'trainable': True}},\n",
              "  {'class_name': 'Activation',\n",
              "   'config': {'activation': 'relu',\n",
              "    'dtype': 'float32',\n",
              "    'name': 'activation_1',\n",
              "    'trainable': True}},\n",
              "  {'class_name': 'Dense',\n",
              "   'config': {'activation': 'relu',\n",
              "    'activity_regularizer': None,\n",
              "    'bias_constraint': None,\n",
              "    'bias_initializer': {'class_name': 'Zeros', 'config': {}},\n",
              "    'bias_regularizer': None,\n",
              "    'dtype': 'float32',\n",
              "    'kernel_constraint': None,\n",
              "    'kernel_initializer': {'class_name': 'GlorotUniform',\n",
              "     'config': {'seed': None}},\n",
              "    'kernel_regularizer': None,\n",
              "    'name': 'dense_42',\n",
              "    'trainable': True,\n",
              "    'units': 1024,\n",
              "    'use_bias': True}},\n",
              "  {'class_name': 'Dense',\n",
              "   'config': {'activation': 'relu',\n",
              "    'activity_regularizer': None,\n",
              "    'bias_constraint': None,\n",
              "    'bias_initializer': {'class_name': 'Zeros', 'config': {}},\n",
              "    'bias_regularizer': None,\n",
              "    'dtype': 'float32',\n",
              "    'kernel_constraint': None,\n",
              "    'kernel_initializer': {'class_name': 'GlorotUniform',\n",
              "     'config': {'seed': None}},\n",
              "    'kernel_regularizer': None,\n",
              "    'name': 'dense_43',\n",
              "    'trainable': True,\n",
              "    'units': 512,\n",
              "    'use_bias': True}},\n",
              "  {'class_name': 'Dense',\n",
              "   'config': {'activation': 'relu',\n",
              "    'activity_regularizer': None,\n",
              "    'bias_constraint': None,\n",
              "    'bias_initializer': {'class_name': 'Zeros', 'config': {}},\n",
              "    'bias_regularizer': None,\n",
              "    'dtype': 'float32',\n",
              "    'kernel_constraint': None,\n",
              "    'kernel_initializer': {'class_name': 'GlorotUniform',\n",
              "     'config': {'seed': None}},\n",
              "    'kernel_regularizer': None,\n",
              "    'name': 'dense_44',\n",
              "    'trainable': True,\n",
              "    'units': 256,\n",
              "    'use_bias': True}},\n",
              "  {'class_name': 'Dense',\n",
              "   'config': {'activation': 'softmax',\n",
              "    'activity_regularizer': None,\n",
              "    'bias_constraint': None,\n",
              "    'bias_initializer': {'class_name': 'Zeros', 'config': {}},\n",
              "    'bias_regularizer': None,\n",
              "    'dtype': 'float32',\n",
              "    'kernel_constraint': None,\n",
              "    'kernel_initializer': {'class_name': 'GlorotUniform',\n",
              "     'config': {'seed': None}},\n",
              "    'kernel_regularizer': None,\n",
              "    'name': 'dense_45',\n",
              "    'trainable': True,\n",
              "    'units': 10,\n",
              "    'use_bias': True}}],\n",
              " 'name': 'sequential_19'}"
            ]
          },
          "metadata": {
            "tags": []
          },
          "execution_count": 69
        }
      ]
    },
    {
      "cell_type": "code",
      "metadata": {
        "id": "LrN90ozIRtaj",
        "colab_type": "code",
        "colab": {}
      },
      "source": [
        ""
      ],
      "execution_count": null,
      "outputs": []
    },
    {
      "cell_type": "code",
      "metadata": {
        "id": "S4HVY1vDRtdA",
        "colab_type": "code",
        "colab": {}
      },
      "source": [
        ""
      ],
      "execution_count": null,
      "outputs": []
    },
    {
      "cell_type": "code",
      "metadata": {
        "id": "ktNtuLATRte9",
        "colab_type": "code",
        "colab": {}
      },
      "source": [
        ""
      ],
      "execution_count": null,
      "outputs": []
    },
    {
      "cell_type": "code",
      "metadata": {
        "id": "QPhOy45lRGM4",
        "colab_type": "code",
        "colab": {}
      },
      "source": [
        ""
      ],
      "execution_count": null,
      "outputs": []
    }
  ]
}